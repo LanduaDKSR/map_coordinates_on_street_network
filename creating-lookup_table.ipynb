{
 "cells": [
  {
   "cell_type": "code",
   "execution_count": 1,
   "metadata": {},
   "outputs": [],
   "source": [
    "import numpy as np\n",
    "import pandas as pd\n",
    "import json\n",
    "import math\n",
    "import matplotlib.pyplot as plt\n",
    "import seaborn as sns\n",
    "from keplergl import KeplerGl\n",
    "from datetime import datetime\n",
    "import time\n",
    "from dksr_lib import dksr\n",
    "import requests\n",
    "import altair as alt\n",
    "import os\n",
    "from geojson import LineString as geoLS\n",
    "from geojson import MultiLineString\n",
    "import h3\n",
    "from shapely.geometry import LineString, shape, Point\n",
    "from shapely.ops import unary_union\n",
    "from shapely import to_geojson\n",
    "from turfpy.transformation import convex\n",
    "import networkx as nx\n",
    "import osmnx as ox\n",
    "from collections import Counter\n",
    "import ast\n",
    "import pytz\n",
    "%matplotlib inline"
   ]
  },
  {
   "cell_type": "code",
   "execution_count": 3,
   "metadata": {},
   "outputs": [],
   "source": [
    "def geo_distance(lon1, lat1, lon2, lat2):\n",
    "    point1, point2 = [lon1, lat1], [lon2, lat2]\n",
    "    R = 6378.137 # Radius of earth in KM\n",
    "    dLat = point2[1] * math.pi / 180 - point1[1] * math.pi / 180\n",
    "    dLon = point2[0] * math.pi / 180 - point1[0] * math.pi / 180\n",
    "    a = math.sin(dLat/2) * math.sin(dLat/2) + math.cos(point1[1] * math.pi / 180) * math.cos(point2[1] * math.pi / 180) * math.sin(dLon/2) * math.sin(dLon/2)\n",
    "    c = 2 * math.atan2(math.sqrt(a), math.sqrt(1-a))\n",
    "    d = R * c\n",
    "    return d * 1000 # meters"
   ]
  },
  {
   "cell_type": "code",
   "execution_count": 4,
   "metadata": {},
   "outputs": [],
   "source": [
    "def haversine_distance_to_point(lat1, lon1, lat2, lon2):\n",
    "    # Radius of the Earth in kilometers\n",
    "    R = 6378.137\n",
    "    \n",
    "    # Convert latitude and longitude from degrees to radians\n",
    "    lat1, lon1, lat2, lon2 = np.radians(lat1), np.radians(lon1), np.radians(lat2), np.radians(lon2)\n",
    "    \n",
    "    # Compute the differences in coordinates\n",
    "    dlat = lat2 - lat1\n",
    "    dlon = lon2 - lon1\n",
    "    \n",
    "    # Haversine formula\n",
    "    a = np.sin(dlat / 2)**2 + np.cos(lat1) * np.cos(lat2) * np.sin(dlon / 2)**2\n",
    "    c = 2 * np.arctan2(np.sqrt(a), np.sqrt(1 - a))\n",
    "    distance = R * c\n",
    "    \n",
    "    return distance"
   ]
  },
  {
   "cell_type": "code",
   "execution_count": 5,
   "metadata": {},
   "outputs": [],
   "source": [
    "def create_subgraph(lat1,lon1):\n",
    "    distances = haversine_distance_to_point(lat1,lon1,nodes['y'],nodes['x'])\n",
    "    nodes['point_distance'] = distances\n",
    "    sG = G\n",
    "    for i in range(2):\n",
    "        sG_edges = list(sG.edges())\n",
    "        max_edge_length = max([sG.get_edge_data(edge[0],edge[1],0)['length'] for edge in sG_edges])/1000\n",
    "        search_radius = max_edge_length + distances.min() + 2000\n",
    "        subnodes = list(nodes[nodes['point_distance'] < search_radius].index)\n",
    "        sG = G.subgraph(subnodes)\n",
    "    return sG"
   ]
  },
  {
   "cell_type": "code",
   "execution_count": 6,
   "metadata": {},
   "outputs": [],
   "source": [
    "aperture_size = 8"
   ]
  },
  {
   "cell_type": "code",
   "execution_count": 7,
   "metadata": {},
   "outputs": [
    {
     "name": "stdout",
     "output_type": "stream",
     "text": [
      "<class 'pandas.core.frame.DataFrame'>\n",
      "RangeIndex: 763518 entries, 0 to 763517\n",
      "Data columns (total 6 columns):\n",
      " #   Column      Non-Null Count   Dtype  \n",
      "---  ------      --------------   -----  \n",
      " 0   session_id  763518 non-null  int64  \n",
      " 1   speed       763518 non-null  int64  \n",
      " 2   timestamp   763518 non-null  object \n",
      " 3   latitude    763518 non-null  float64\n",
      " 4   longitude   763518 non-null  float64\n",
      " 5   direction   763518 non-null  int64  \n",
      "dtypes: float64(2), int64(3), object(1)\n",
      "memory usage: 35.0+ MB\n"
     ]
    }
   ],
   "source": [
    "files_0 = os.listdir('./Umkreis/')\n",
    "dates = list(set([x.split('_')[0] for x in files_0]))\n",
    "dates.sort()\n",
    "\n",
    "date_list = [s for s in files_0 if dates[1] in s]\n",
    "df = pd.read_csv('Umkreis/' + date_list[1], compression='gzip', header=None, sep=',')\n",
    "headers = ['session_id', 'speed', 'timestamp', 'latitude', 'longitude', 'direction']\n",
    "df.columns = headers\n",
    "df.info()"
   ]
  },
  {
   "cell_type": "code",
   "execution_count": 8,
   "metadata": {},
   "outputs": [
    {
     "data": {
      "text/html": [
       "<div>\n",
       "<style scoped>\n",
       "    .dataframe tbody tr th:only-of-type {\n",
       "        vertical-align: middle;\n",
       "    }\n",
       "\n",
       "    .dataframe tbody tr th {\n",
       "        vertical-align: top;\n",
       "    }\n",
       "\n",
       "    .dataframe thead th {\n",
       "        text-align: right;\n",
       "    }\n",
       "</style>\n",
       "<table border=\"1\" class=\"dataframe\">\n",
       "  <thead>\n",
       "    <tr style=\"text-align: right;\">\n",
       "      <th></th>\n",
       "      <th>session_id</th>\n",
       "      <th>speed</th>\n",
       "      <th>timestamp</th>\n",
       "      <th>latitude</th>\n",
       "      <th>longitude</th>\n",
       "      <th>direction</th>\n",
       "      <th>unix</th>\n",
       "    </tr>\n",
       "  </thead>\n",
       "  <tbody>\n",
       "    <tr>\n",
       "      <th>0</th>\n",
       "      <td>27137987</td>\n",
       "      <td>47</td>\n",
       "      <td>2023-05-21 21:59:03+00:00</td>\n",
       "      <td>49.473380</td>\n",
       "      <td>10.991331</td>\n",
       "      <td>222</td>\n",
       "      <td>1684706343</td>\n",
       "    </tr>\n",
       "    <tr>\n",
       "      <th>1</th>\n",
       "      <td>27137987</td>\n",
       "      <td>43</td>\n",
       "      <td>2023-05-21 21:59:08+00:00</td>\n",
       "      <td>49.472992</td>\n",
       "      <td>10.990729</td>\n",
       "      <td>223</td>\n",
       "      <td>1684706348</td>\n",
       "    </tr>\n",
       "    <tr>\n",
       "      <th>2</th>\n",
       "      <td>27137987</td>\n",
       "      <td>38</td>\n",
       "      <td>2023-05-21 21:59:13+00:00</td>\n",
       "      <td>49.472603</td>\n",
       "      <td>10.990105</td>\n",
       "      <td>224</td>\n",
       "      <td>1684706353</td>\n",
       "    </tr>\n",
       "    <tr>\n",
       "      <th>3</th>\n",
       "      <td>27137987</td>\n",
       "      <td>38</td>\n",
       "      <td>2023-05-21 21:59:18+00:00</td>\n",
       "      <td>49.472256</td>\n",
       "      <td>10.989594</td>\n",
       "      <td>224</td>\n",
       "      <td>1684706358</td>\n",
       "    </tr>\n",
       "    <tr>\n",
       "      <th>4</th>\n",
       "      <td>27137987</td>\n",
       "      <td>37</td>\n",
       "      <td>2023-05-21 21:59:23+00:00</td>\n",
       "      <td>49.471905</td>\n",
       "      <td>10.989058</td>\n",
       "      <td>225</td>\n",
       "      <td>1684706363</td>\n",
       "    </tr>\n",
       "  </tbody>\n",
       "</table>\n",
       "</div>"
      ],
      "text/plain": [
       "   session_id  speed                 timestamp   latitude  longitude  \\\n",
       "0    27137987     47 2023-05-21 21:59:03+00:00  49.473380  10.991331   \n",
       "1    27137987     43 2023-05-21 21:59:08+00:00  49.472992  10.990729   \n",
       "2    27137987     38 2023-05-21 21:59:13+00:00  49.472603  10.990105   \n",
       "3    27137987     38 2023-05-21 21:59:18+00:00  49.472256  10.989594   \n",
       "4    27137987     37 2023-05-21 21:59:23+00:00  49.471905  10.989058   \n",
       "\n",
       "   direction        unix  \n",
       "0        222  1684706343  \n",
       "1        223  1684706348  \n",
       "2        224  1684706353  \n",
       "3        224  1684706358  \n",
       "4        225  1684706363  "
      ]
     },
     "execution_count": 8,
     "metadata": {},
     "output_type": "execute_result"
    }
   ],
   "source": [
    "#%%time\n",
    "df['timestamp'] = pd.to_datetime(df['timestamp'], format='%Y-%m-%dT%H:%M:%S.%fZ', utc=True)\n",
    "#germany_timezone = pytz.timezone('Europe/Berlin')\n",
    "#df['timestamp'] = df['timestamp'].dt.tz_convert('UTC')\n",
    "df['unix'] = df['timestamp'].astype(np.int64) // 10**9\n",
    "df.head()"
   ]
  },
  {
   "cell_type": "code",
   "execution_count": 92,
   "metadata": {},
   "outputs": [],
   "source": [
    "sessions = df['session_id'].unique()\n",
    "trip_1 = df[df['session_id']==sessions[0]].reset_index(drop=True)"
   ]
  },
  {
   "cell_type": "code",
   "execution_count": 9,
   "metadata": {},
   "outputs": [],
   "source": [
    "#lng_min, lng_max, lat_min, lat_max = trip_1['longitude'].min(), trip_1['longitude'].max(), trip_1['latitude'].min(), trip_1['latitude'].max()\n",
    "lng_min, lng_max, lat_min, lat_max = df['longitude'].min(), df['longitude'].max(), df['latitude'].min(), df['latitude'].max()\n",
    "\n",
    "G = ox.graph_from_bbox(lat_max+0.02, lat_min-0.02, lng_min-0.02, lng_max+0.02, network_type='drive')\n",
    "nodes = ox.graph_to_gdfs(G, edges=False)\n",
    "nodes_dict = nodes.to_dict()"
   ]
  },
  {
   "cell_type": "code",
   "execution_count": 10,
   "metadata": {},
   "outputs": [],
   "source": [
    "G_edges = list(G.edges())\n",
    "G_shapes = []\n",
    "G_names = []\n",
    "for edge in G_edges:\n",
    "    try:\n",
    "        name_i = G.get_edge_data(edge[0],edge[1])[0]['name']\n",
    "        G_names.append(name_i)\n",
    "    except:\n",
    "        G_names.append(None)\n",
    "    try:\n",
    "        shape_i = G.get_edge_data(edge[0],edge[1])[0]['geometry']\n",
    "        G_shapes.append(shape_i)\n",
    "    except:\n",
    "        start = (nodes_dict['x'][edge[0]],nodes_dict['y'][edge[0]])\n",
    "        end = (nodes_dict['x'][edge[1]],nodes_dict['y'][edge[1]])\n",
    "        G_shapes.append(LineString([start,end]))\n",
    "    \n",
    "edge_name_dict = dict(zip(G_edges,G_names))\n",
    "edge_shape_dict = dict(zip(G_edges,G_shapes))"
   ]
  },
  {
   "cell_type": "code",
   "execution_count": 11,
   "metadata": {},
   "outputs": [],
   "source": [
    "lat_array = np.arange(lat_min-0.02,lat_max+0.02,0.001)#0.00001)\n",
    "lng_array = np.arange(lng_min-0.02,lng_max+0.02,0.0015)#0.000015)"
   ]
  },
  {
   "cell_type": "code",
   "execution_count": 12,
   "metadata": {},
   "outputs": [],
   "source": [
    "h3_indexes = set()\n",
    "for lat in lat_array:\n",
    "    for lng in lng_array:\n",
    "        h3_index = h3.geo_to_h3(lat, lng, aperture_size)\n",
    "        h3_indexes.add(h3_index)"
   ]
  },
  {
   "cell_type": "code",
   "execution_count": 13,
   "metadata": {},
   "outputs": [
    {
     "data": {
      "text/plain": [
       "6151"
      ]
     },
     "execution_count": 13,
     "metadata": {},
     "output_type": "execute_result"
    }
   ],
   "source": [
    "len(h3_indexes)"
   ]
  },
  {
   "cell_type": "code",
   "execution_count": 98,
   "metadata": {},
   "outputs": [
    {
     "data": {
      "text/html": [
       "<div>\n",
       "<style scoped>\n",
       "    .dataframe tbody tr th:only-of-type {\n",
       "        vertical-align: middle;\n",
       "    }\n",
       "\n",
       "    .dataframe tbody tr th {\n",
       "        vertical-align: top;\n",
       "    }\n",
       "\n",
       "    .dataframe thead th {\n",
       "        text-align: right;\n",
       "    }\n",
       "</style>\n",
       "<table border=\"1\" class=\"dataframe\">\n",
       "  <thead>\n",
       "    <tr style=\"text-align: right;\">\n",
       "      <th></th>\n",
       "      <th>h3</th>\n",
       "      <th>lat</th>\n",
       "      <th>lng</th>\n",
       "    </tr>\n",
       "  </thead>\n",
       "  <tbody>\n",
       "    <tr>\n",
       "      <th>0</th>\n",
       "      <td>881fabab63fffff</td>\n",
       "      <td>49.427301</td>\n",
       "      <td>11.033362</td>\n",
       "    </tr>\n",
       "    <tr>\n",
       "      <th>1</th>\n",
       "      <td>881fab16bdfffff</td>\n",
       "      <td>49.427694</td>\n",
       "      <td>10.975509</td>\n",
       "    </tr>\n",
       "    <tr>\n",
       "      <th>2</th>\n",
       "      <td>881fabab15fffff</td>\n",
       "      <td>49.428457</td>\n",
       "      <td>11.079021</td>\n",
       "    </tr>\n",
       "    <tr>\n",
       "      <th>3</th>\n",
       "      <td>881fabab61fffff</td>\n",
       "      <td>49.428873</td>\n",
       "      <td>11.021156</td>\n",
       "    </tr>\n",
       "    <tr>\n",
       "      <th>4</th>\n",
       "      <td>881fab16abfffff</td>\n",
       "      <td>49.429259</td>\n",
       "      <td>10.963305</td>\n",
       "    </tr>\n",
       "  </tbody>\n",
       "</table>\n",
       "</div>"
      ],
      "text/plain": [
       "                h3        lat        lng\n",
       "0  881fabab63fffff  49.427301  11.033362\n",
       "1  881fab16bdfffff  49.427694  10.975509\n",
       "2  881fabab15fffff  49.428457  11.079021\n",
       "3  881fabab61fffff  49.428873  11.021156\n",
       "4  881fab16abfffff  49.429259  10.963305"
      ]
     },
     "execution_count": 98,
     "metadata": {},
     "output_type": "execute_result"
    }
   ],
   "source": [
    "h3_df = pd.DataFrame({'h3': list(h3_indexes)})\n",
    "h3_df['lat'] = h3_df['h3'].apply(lambda x: h3.h3_to_geo(x)[0])\n",
    "h3_df['lng'] = h3_df['h3'].apply(lambda x: h3.h3_to_geo(x)[1])\n",
    "h3_df.sort_values(['lat','lng'],ignore_index=True,inplace=True)\n",
    "h3_df.head()"
   ]
  },
  {
   "cell_type": "code",
   "execution_count": 14,
   "metadata": {},
   "outputs": [],
   "source": [
    "edge_grid_df = pd.DataFrame({'h3':[], 'edges':[], 'distances':[]})\n",
    "h3_test = list(h3_indexes)#[:100]\n",
    "for cell in h3_test:\n",
    "    lat = h3.h3_to_geo(cell)[0]\n",
    "    lng = h3.h3_to_geo(cell)[1]\n",
    "    sG = create_subgraph(lat,lng)\n",
    "    cell_children = []\n",
    "    sublayer_1 = list(h3.h3_to_children(cell))\n",
    "    for child_i in sublayer_1:\n",
    "        sublayer_2 = list(h3.h3_to_children(child_i))\n",
    "        for child_ij in sublayer_2:\n",
    "            sublayer_3 = list(h3.h3_to_children(child_ij))\n",
    "            for child_ijk in sublayer_3:\n",
    "                sublayer_4 = list(h3.h3_to_children(child_ijk))\n",
    "                #lats = [h3.h3_to_geo(x)[0] for x in sublayer_4]\n",
    "                #lngs = [h3.h3_to_geo(x)[1] for x in sublayer_4]\n",
    "                #edge_tuples = ox.nearest_edges(sG,lngs,lats,return_dist=True)\n",
    "                #layer_4_df = pd.DataFrame({'h3': sublayer_4, 'distance': edge_tuples[1]})\n",
    "                #sublayer_4 = list(layer_4_df[layer_4_df['distance'] <= 0.001]['h3'])\n",
    "                for child_ijkl in sublayer_4:\n",
    "                    sublayer_5 = list(h3.h3_to_children(child_ijkl))\n",
    "                    cell_children.extend(sublayer_5)\n",
    "    lats = [h3.h3_to_geo(x)[0] for x in cell_children]\n",
    "    lngs = [h3.h3_to_geo(x)[1] for x in cell_children]\n",
    "    edge_tuples = ox.nearest_edges(sG,lngs,lats,return_dist=True)\n",
    "    df_i = pd.DataFrame({'h3':cell_children, 'edges':edge_tuples[0], 'distances':edge_tuples[1]})\n",
    "    df_i = df_i[df_i['distances'] <= 0.0005]\n",
    "    edge_grid_df = pd.concat([edge_grid_df,df_i], axis=0, ignore_index=True)"
   ]
  },
  {
   "cell_type": "code",
   "execution_count": 16,
   "metadata": {},
   "outputs": [],
   "source": [
    "edge_grid_df['edges'] = edge_grid_df['edges'].apply(lambda x: (x[0],x[1]))"
   ]
  },
  {
   "cell_type": "code",
   "execution_count": 18,
   "metadata": {},
   "outputs": [
    {
     "name": "stdout",
     "output_type": "stream",
     "text": [
      "<class 'pandas.core.frame.DataFrame'>\n",
      "RangeIndex: 17182091 entries, 0 to 17182090\n",
      "Data columns (total 3 columns):\n",
      " #   Column     Dtype  \n",
      "---  ------     -----  \n",
      " 0   h3         object \n",
      " 1   edges      object \n",
      " 2   distances  float64\n",
      "dtypes: float64(1), object(2)\n",
      "memory usage: 393.3+ MB\n"
     ]
    }
   ],
   "source": [
    "edge_grid_df.info()"
   ]
  },
  {
   "cell_type": "code",
   "execution_count": 19,
   "metadata": {},
   "outputs": [],
   "source": [
    "edge_grid_df.to_csv('edge_lookup.csv')"
   ]
  },
  {
   "cell_type": "code",
   "execution_count": 20,
   "metadata": {},
   "outputs": [],
   "source": [
    "edge_grid_df.to_json('edge_lookup.json')"
   ]
  },
  {
   "cell_type": "code",
   "execution_count": 69,
   "metadata": {},
   "outputs": [
    {
     "name": "stdout",
     "output_type": "stream",
     "text": [
      "Länge lng-Gitter: 108.55261711820543\n",
      "Länge lat-Gitter: 111.3194907929834\n"
     ]
    }
   ],
   "source": [
    "#dksr.geo_distance([test_array[0],lng_min],[test_array[1,lng_min]])\n",
    "print('Länge lng-Gitter:', geo_distance(lng_array[0], lat_min, lng_array[1], lat_min))\n",
    "print('Länge lat-Gitter:', geo_distance(lng_min,lat_array[0], lng_min, lat_array[1]))"
   ]
  },
  {
   "cell_type": "code",
   "execution_count": null,
   "metadata": {},
   "outputs": [],
   "source": []
  }
 ],
 "metadata": {
  "kernelspec": {
   "display_name": "base",
   "language": "python",
   "name": "python3"
  },
  "language_info": {
   "codemirror_mode": {
    "name": "ipython",
    "version": 3
   },
   "file_extension": ".py",
   "mimetype": "text/x-python",
   "name": "python",
   "nbconvert_exporter": "python",
   "pygments_lexer": "ipython3",
   "version": "3.10.9"
  }
 },
 "nbformat": 4,
 "nbformat_minor": 2
}
